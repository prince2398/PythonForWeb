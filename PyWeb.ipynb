{
 "cells": [
  {
   "cell_type": "markdown",
   "metadata": {
    "deletable": true,
    "editable": true
   },
   "source": [
    "# Python for web\n",
    "\n",
    "![](http://www.blog.skytopper.com/wp-content/uploads/2015/06/Global-computer-network.jpg)\n",
    "\n",
    "This bootcamp is all about interacting with **web** using Python programming language.\n",
    "\n",
    "In this bootcamp, we will learn:\n",
    "\n",
    "- to work with web APIs\n",
    "- to download content from web\n",
    "- web scraping\n",
    "- web crawling\n",
    "- web automation\n",
    "\n",
    "using simple python scripts!"
   ]
  },
  {
   "cell_type": "markdown",
   "metadata": {
    "deletable": true,
    "editable": true
   },
   "source": [
    "# 1. Working with web APIs\n",
    "\n",
    "- **What is API?**<br>\n",
    "    API is a set of routines, protocols, and tools for building software applications. An API specifies how software components should interact. \n",
    "-------------\n",
    "\n",
    "- **What is web API?**<br>\n",
    "    Web API is a framework for building HTTP services that can be consumed by a broad range of clients including browsers, mobiles, iphone and tablets.\n",
    "\n",
    "-----------------\n",
    "- **Some examples of public web APIs:**\n",
    "    - [Facebook Graph API](https://developers.facebook.com/docs/graph-api)\n",
    "    - [Twitter API](https://dev.twitter.com/rest/public)\n",
    "    - [Google API explorer](https://developers.google.com/apis-explorer/#p/)\n",
    "--------------\n",
    "\n",
    "- **What is REST?**<br>\n",
    "    REST is an architectural style followed by web services, in which, they allow requesting systems to access and manipulate their Web resources using a uniform and predefined set of **stateless operations**.\n",
    "    \n",
    "    >In computing, a stateless protocol is a communications protocol in which no information is retained by either sender or receiver. The sender transmits a packet to the receiver and does not expect an acknowledgment of receipt. There is nothing saved that has to be remembered by the next transaction. The server must be able to completely understand the client request without using any server context or server session state. \n",
    "    \n",
    "   Advantages of REST:\n",
    "   - As the transactions are stateless, we can direct them to any instance of the web service. (As no sessions are involved). Hence, the web service can scale to accommodate load changes.\n",
    "   - Binding to a service through an API is a matter of controlling how the URL is decoded.\n",
    "\n",
    "-----------------\n",
    "- **Types of HTTP requests**\n",
    "    - GET\n",
    "    - POST\n",
    "    - DELETE\n",
    "    - PUT\n",
    "    - PATCH, etc."
   ]
  },
  {
   "cell_type": "markdown",
   "metadata": {
    "deletable": true,
    "editable": true
   },
   "source": [
    "### HTTP  for humans: [requests](http://docs.python-requests.org/en/master/)\n",
    "\n",
    "<img src=\"http://docs.python-requests.org/en/master/_static/requests-sidebar.png\"  height=200 width=200>\n",
    "\n",
    "\n",
    "- Requests is one of the most downloaded Python packages of all time, pulling in over 7,000,000 downloads every month.All the cool kids are doing it\n",
    "\n",
    "- Recreational use of other HTTP libraries may result in dangerous side-effects, including: security vulnerabilities, verbose code, reinventing the wheel, constantly reading documentation, depression, headaches, or even death. Requests is the only Non-GMO HTTP library for Python, safe for human consumption.\n",
    "\n",
    "- Python HTTP: When in doubt, or when not in doubt, use Requests. Beautiful, simple, Pythonic.\n",
    "\n",
    "***Everybody loves it!***\n",
    "\n",
    "#### Installation\n",
    "\n",
    "```\n",
    "pip install requests\n",
    "```"
   ]
  },
  {
   "cell_type": "markdown",
   "metadata": {
    "deletable": true,
    "editable": true
   },
   "source": [
    "## GET request\n",
    "\n",
    "### Example 1\n",
    "![](http://graph.facebook.com/4/picture?type=large)"
   ]
  },
  {
   "cell_type": "markdown",
   "metadata": {
    "deletable": true,
    "editable": true
   },
   "source": [
    "![](http://i.imgur.com/gRvt4lV.png)"
   ]
  },
  {
   "cell_type": "code",
   "execution_count": 116,
   "metadata": {
    "collapsed": true,
    "deletable": true,
    "editable": true
   },
   "outputs": [],
   "source": [
    "import requests\n",
    "\n",
    "url = \"http://graph.facebook.com/4/picture?type=large\"\n",
    "\n",
    "r = requests.get(url)"
   ]
  },
  {
   "cell_type": "code",
   "execution_count": 117,
   "metadata": {
    "collapsed": false,
    "deletable": true,
    "editable": true
   },
   "outputs": [
    {
     "data": {
      "text/plain": [
       "200"
      ]
     },
     "execution_count": 117,
     "metadata": {},
     "output_type": "execute_result"
    }
   ],
   "source": [
    "r.status_code"
   ]
  },
  {
   "cell_type": "code",
   "execution_count": 118,
   "metadata": {
    "collapsed": false,
    "deletable": true,
    "editable": true
   },
   "outputs": [],
   "source": [
    "with open(\"mark.jpg\",\"wb\")  as f:\n",
    "    f.write(r.content)"
   ]
  },
  {
   "cell_type": "markdown",
   "metadata": {
    "deletable": true,
    "editable": true
   },
   "source": [
    "### Example 2\n",
    "\n",
    "[Google maps geocoding API](https://developers.google.com/maps/documentation/geocoding/intro)"
   ]
  },
  {
   "cell_type": "code",
   "execution_count": 10,
   "metadata": {
    "collapsed": true,
    "deletable": true,
    "editable": true
   },
   "outputs": [],
   "source": [
    "url = \"https://maps.googleapis.com/maps/api/geocode/json\""
   ]
  },
  {
   "cell_type": "code",
   "execution_count": 21,
   "metadata": {
    "collapsed": true,
    "deletable": true,
    "editable": true
   },
   "outputs": [],
   "source": [
    "params = {\n",
    "    \"address\": \"Delhi Technological University\"\n",
    "}\n",
    "\n",
    "r = requests.get(url, params = params)"
   ]
  },
  {
   "cell_type": "code",
   "execution_count": 23,
   "metadata": {
    "collapsed": true,
    "deletable": true,
    "editable": true
   },
   "outputs": [],
   "source": [
    "data  = r.json()"
   ]
  },
  {
   "cell_type": "code",
   "execution_count": 42,
   "metadata": {
    "collapsed": false,
    "deletable": true,
    "editable": true
   },
   "outputs": [
    {
     "data": {
      "text/plain": [
       "28.7500749"
      ]
     },
     "execution_count": 42,
     "metadata": {},
     "output_type": "execute_result"
    }
   ],
   "source": [
    "data['results'][0]['geometry']['location']['lat']"
   ]
  },
  {
   "cell_type": "code",
   "execution_count": 43,
   "metadata": {
    "collapsed": true,
    "deletable": true,
    "editable": true
   },
   "outputs": [],
   "source": [
    "from pprint import pprint"
   ]
  },
  {
   "cell_type": "code",
   "execution_count": 46,
   "metadata": {
    "collapsed": false,
    "deletable": true,
    "editable": true
   },
   "outputs": [
    {
     "name": "stdout",
     "output_type": "stream",
     "text": [
      "{'results': [{'address_components': [{'long_name': 'Delhi',\n",
      "                                      'short_name': 'Delhi',\n",
      "                                      'types': ['locality', 'political']},\n",
      "                                     {'long_name': 'Delhi',\n",
      "                                      'short_name': 'DL',\n",
      "                                      'types': ['administrative_area_level_1',\n",
      "                                                'political']},\n",
      "                                     {'long_name': 'India',\n",
      "                                      'short_name': 'IN',\n",
      "                                      'types': ['country', 'political']},\n",
      "                                     {'long_name': '110042',\n",
      "                                      'short_name': '110042',\n",
      "                                      'types': ['postal_code']}],\n",
      "              'formatted_address': 'Shahbad Daulatpur, Main Bawana Road, '\n",
      "                                   'Delhi, 110042, India',\n",
      "              'geometry': {'location': {'lat': 28.7500749,\n",
      "                                        'lng': 77.11766519999999},\n",
      "                           'location_type': 'GEOMETRIC_CENTER',\n",
      "                           'viewport': {'northeast': {'lat': 28.7514238802915,\n",
      "                                                      'lng': 77.11901418029149},\n",
      "                                        'southwest': {'lat': 28.7487259197085,\n",
      "                                                      'lng': 77.11631621970848}}},\n",
      "              'place_id': 'ChIJZclnKiEBDTkRsNEwHMpw1Ic',\n",
      "              'types': ['establishment', 'point_of_interest']}],\n",
      " 'status': 'OK'}\n"
     ]
    }
   ],
   "source": [
    "pprint(data)"
   ]
  },
  {
   "cell_type": "markdown",
   "metadata": {
    "deletable": true,
    "editable": true
   },
   "source": [
    "## POST request\n",
    "\n",
    "![](https://www.safaribooksonline.com/library/view/head-first-servlets/9780596516680/httpatomoreillycomsourceoreillyimages1377910.png.jpg)"
   ]
  },
  {
   "cell_type": "markdown",
   "metadata": {
    "deletable": true,
    "editable": true
   },
   "source": [
    "### Example 1\n",
    "\n",
    "[Pastebin API](https://pastebin.com/api)"
   ]
  },
  {
   "cell_type": "code",
   "execution_count": 47,
   "metadata": {
    "collapsed": true,
    "deletable": true,
    "editable": true
   },
   "outputs": [],
   "source": [
    "key = \"xxxxxxxxxxxxxxxxxxxxxxxxxxxxxxxxxxxxxx\"\n",
    "\n",
    "url = \"https://pastebin.com/api/api_post.php\""
   ]
  },
  {
   "cell_type": "code",
   "execution_count": 76,
   "metadata": {
    "collapsed": true,
    "deletable": true,
    "editable": true
   },
   "outputs": [],
   "source": [
    "code = '''\n",
    "a = int(raw_input())\n",
    "print(a**a)\n",
    "'''"
   ]
  },
  {
   "cell_type": "code",
   "execution_count": 49,
   "metadata": {
    "collapsed": true,
    "deletable": true,
    "editable": true
   },
   "outputs": [],
   "source": [
    "data = {\n",
    "    \"api_dev_key\": key,\n",
    "    \"api_option\": 'paste',\n",
    "    \"api_paste_code\": code\n",
    "}"
   ]
  },
  {
   "cell_type": "code",
   "execution_count": 50,
   "metadata": {
    "collapsed": true,
    "deletable": true,
    "editable": true
   },
   "outputs": [],
   "source": [
    "r = requests.post(url, data = data)"
   ]
  },
  {
   "cell_type": "code",
   "execution_count": 51,
   "metadata": {
    "collapsed": false,
    "deletable": true,
    "editable": true
   },
   "outputs": [
    {
     "data": {
      "text/plain": [
       "200"
      ]
     },
     "execution_count": 51,
     "metadata": {},
     "output_type": "execute_result"
    }
   ],
   "source": [
    "r.status_code"
   ]
  },
  {
   "cell_type": "code",
   "execution_count": 52,
   "metadata": {
    "collapsed": false,
    "deletable": true,
    "editable": true
   },
   "outputs": [
    {
     "data": {
      "text/plain": [
       "b'https://pastebin.com/JdGM4nbE'"
      ]
     },
     "execution_count": 52,
     "metadata": {},
     "output_type": "execute_result"
    }
   ],
   "source": [
    "r.content"
   ]
  },
  {
   "cell_type": "markdown",
   "metadata": {
    "deletable": true,
    "editable": true
   },
   "source": [
    "### Example 2\n",
    "\n",
    "https://m.me/mycodebot\n",
    "\n",
    "[HackeRank code checker API](https://www.hackerrank.com/api/docs)"
   ]
  },
  {
   "cell_type": "code",
   "execution_count": 67,
   "metadata": {
    "collapsed": true,
    "deletable": true,
    "editable": true
   },
   "outputs": [],
   "source": [
    "key = \"xxxxxxxxxxxxxxxxxxxxxxxxxxxxxxx\""
   ]
  },
  {
   "cell_type": "code",
   "execution_count": 68,
   "metadata": {
    "collapsed": true,
    "deletable": true,
    "editable": true
   },
   "outputs": [],
   "source": [
    "url= \"http://api.hackerrank.com/checker/submission.json\""
   ]
  },
  {
   "cell_type": "code",
   "execution_count": 85,
   "metadata": {
    "collapsed": true,
    "deletable": true,
    "editable": true
   },
   "outputs": [],
   "source": [
    "code = '''\n",
    "a = int(raw_input())\n",
    "print(a**a)\n",
    "'''"
   ]
  },
  {
   "cell_type": "code",
   "execution_count": 77,
   "metadata": {
    "collapsed": true,
    "deletable": true,
    "editable": true
   },
   "outputs": [],
   "source": [
    "data = {\n",
    "    'format': 'json',\n",
    "    'source': code,\n",
    "    'lang': 5,\n",
    "    'testcases':'[\"2\",\"3\"]',\n",
    "    'api_key': key\n",
    "}"
   ]
  },
  {
   "cell_type": "code",
   "execution_count": 78,
   "metadata": {
    "collapsed": true,
    "deletable": true,
    "editable": true
   },
   "outputs": [],
   "source": [
    "r = requests.post(url, data = data)"
   ]
  },
  {
   "cell_type": "code",
   "execution_count": 79,
   "metadata": {
    "collapsed": false,
    "deletable": true,
    "editable": true
   },
   "outputs": [
    {
     "data": {
      "text/plain": [
       "200"
      ]
     },
     "execution_count": 79,
     "metadata": {},
     "output_type": "execute_result"
    }
   ],
   "source": [
    "r.status_code"
   ]
  },
  {
   "cell_type": "code",
   "execution_count": 84,
   "metadata": {
    "collapsed": false,
    "deletable": true,
    "editable": true
   },
   "outputs": [
    {
     "data": {
      "text/plain": [
       "['4\\n', '27\\n']"
      ]
     },
     "execution_count": 84,
     "metadata": {},
     "output_type": "execute_result"
    }
   ],
   "source": [
    "r.json()['result']['stdout']"
   ]
  },
  {
   "cell_type": "markdown",
   "metadata": {
    "deletable": true,
    "editable": true
   },
   "source": [
    "# 2. Downloading files\n",
    "\n",
    "![](http://noclone.net/images/file-types-s.png)\n",
    "\n",
    "Downloading large files in chunks!"
   ]
  },
  {
   "cell_type": "code",
   "execution_count": 93,
   "metadata": {
    "collapsed": false,
    "deletable": true,
    "editable": true
   },
   "outputs": [
    {
     "name": "stderr",
     "output_type": "stream",
     "text": [
      "2717it [00:01, 1784.23it/s]                                     \n"
     ]
    }
   ],
   "source": [
    "from tqdm import tqdm\n",
    "\n",
    "url = \"http://www.tutorialspoint.com/python/python_tutorial.pdf\"\n",
    "\n",
    "chunk_size = 1024\n",
    "\n",
    "r = requests.get(url, stream =True)\n",
    "\n",
    "iterations = int(r.headers['content-length']) / chunk_size\n",
    "\n",
    "with open(\"python.pdf\", \"wb\") as f:\n",
    "    for chunk in tqdm(r.iter_content(chunk_size=chunk_size), \n",
    "                      total = iterations):\n",
    "        f.write(chunk)"
   ]
  },
  {
   "cell_type": "markdown",
   "metadata": {
    "deletable": true,
    "editable": true
   },
   "source": [
    "# 3. Web scraping\n",
    "\n",
    "![](https://cdn-images-1.medium.com/max/1600/0*yxxFwUEPQU3lAz4W.png)"
   ]
  },
  {
   "cell_type": "markdown",
   "metadata": {
    "deletable": true,
    "editable": true
   },
   "source": [
    "## [Beautiful Soup](https://www.crummy.com/software/BeautifulSoup/bs4/doc/)\n",
    "\n",
    ">Beautiful Soup is a Python library for pulling data out of HTML and XML files. It works with your favorite parser to provide idiomatic ways of navigating, searching, and modifying the parse tree. It commonly saves programmers hours or days of work.\n",
    "\n",
    "### Installation\n",
    "\n",
    "```\n",
    "pip install bs4\n",
    "```\n",
    "\n",
    "**Bonus:**\n",
    "```\n",
    "pip install html5lib\n",
    "```"
   ]
  },
  {
   "cell_type": "code",
   "execution_count": 97,
   "metadata": {
    "collapsed": false,
    "deletable": true,
    "editable": true
   },
   "outputs": [],
   "source": [
    "from bs4 import BeautifulSoup\n",
    "\n",
    "url = \"https://www.values.com/inspirational-quotes\"\n",
    "\n",
    "r = requests.get(url)\n",
    "\n",
    "soup = BeautifulSoup(r.content, 'html5lib')"
   ]
  },
  {
   "cell_type": "code",
   "execution_count": 100,
   "metadata": {
    "collapsed": false,
    "deletable": true,
    "editable": true
   },
   "outputs": [],
   "source": [
    "quote_html = soup.findAll('div', attrs = {'class': 'quote'})"
   ]
  },
  {
   "cell_type": "code",
   "execution_count": 103,
   "metadata": {
    "collapsed": false,
    "deletable": true,
    "editable": true
   },
   "outputs": [],
   "source": [
    "quote = quote_html[0]"
   ]
  },
  {
   "cell_type": "code",
   "execution_count": 104,
   "metadata": {
    "collapsed": false,
    "deletable": true,
    "editable": true
   },
   "outputs": [
    {
     "data": {
      "text/plain": [
       "<div class=\"quote\" data-url=\"/inspirational-quotes/7673-education-breeds-confidence\">\n",
       "\n",
       "\t<a href=\"/inspirational-quotes/7673-education-breeds-confidence\"><img alt=\"Discuss and promote the importance of education to the youth in your community. #education #passiton www.values.com\" src=\"https://quotes.values.com/quote_artwork/7673/medium/20170811_friday_quote.jpg?1501716093\"/></a>\n",
       "\n",
       "\t<h5>EDUCATION</h5>\n",
       "\n",
       "\t<h6><a href=\"/inspirational-quotes/7673-education-breeds-confidence\">Education breeds confidence.</a></h6>\n",
       "\n",
       "\t<p>Confucius </p>\n",
       "\n",
       "</div>"
      ]
     },
     "execution_count": 104,
     "metadata": {},
     "output_type": "execute_result"
    }
   ],
   "source": [
    "quote"
   ]
  },
  {
   "cell_type": "code",
   "execution_count": 110,
   "metadata": {
    "collapsed": false,
    "deletable": true,
    "editable": true
   },
   "outputs": [],
   "source": [
    "quotes = []\n",
    "\n",
    "for data in quote_html:\n",
    "    quote = {}\n",
    "    quote['link'] = data.a['href']\n",
    "    quote['text'] = data.h6.a.text\n",
    "    quote['author'] = data.p.text\n",
    "    quote['img'] = data.a.img['src']\n",
    "    \n",
    "    quotes.append(quote)\n",
    "    "
   ]
  },
  {
   "cell_type": "code",
   "execution_count": 115,
   "metadata": {
    "collapsed": false,
    "deletable": true,
    "editable": true
   },
   "outputs": [],
   "source": [
    "import csv\n",
    "\n",
    "with open(\"quotes.csv\", \"w\") as f:\n",
    "    writer = csv.DictWriter(f, fieldnames = ['link', 'text', 'author','img'])\n",
    "    writer.writeheader()\n",
    "    \n",
    "    for quote in quotes:\n",
    "        writer.writerow(quote)"
   ]
  },
  {
   "cell_type": "markdown",
   "metadata": {
    "deletable": true,
    "editable": true
   },
   "source": [
    "# 4. Web crawling\n",
    "\n",
    "![](http://seopressor.com/wp-content/uploads/2016/04/how-crawler-works.png)\n",
    "\n",
    "**Task:** Make a list of all public URLs on [Indian Pythonista](https://indianpythonista.wordpress.com)\n",
    "\n",
    "### [Scrapy](https://scrapy.org/): a fast high-level web crawling & scraping framework for Python\n",
    "\n",
    "![](https://scrapinghub.files.wordpress.com/2016/08/scrapy.png)\n",
    "\n",
    "```\n",
    "pip install scrapy\n",
    "```\n",
    "\n",
    "Start new project:\n",
    "```\n",
    "scrapy startproject <project-name>\n",
    "```"
   ]
  },
  {
   "cell_type": "markdown",
   "metadata": {
    "deletable": true,
    "editable": true
   },
   "source": [
    "# 5. Web automation\n",
    "\n",
    "\n",
    "**Task:** Automatically submit the code for a problem on [codechef](https://www.codechef.com/).\n",
    "\n",
    "### [Selenium](http://selenium-python.readthedocs.io/) : Web automation and testing\n",
    "\n",
    "![](https://udemy-images.udemy.com/course/750x422/482754_7146_4.jpg)\n",
    "\n",
    "\n",
    "#### Installation\n",
    "\n",
    "```\n",
    "pip install selenium\n",
    "```\n",
    "\n",
    "#### To start a browser session\n",
    "```python\n",
    "from selenium import webdriver\n",
    "browser = webdriver.Firefox()\n",
    "```\n",
    "\n",
    "#### To open a webpage\n",
    "```python\n",
    "browser.get('https://www.codechef.com')\n",
    "```\n",
    "\n",
    "#### To select an element by its id\n",
    "```python\n",
    "browser.find_element_by_id(<id>)\n",
    "```\n",
    "\n",
    "#### Input value in element\n",
    "```python\n",
    "element.send_keys()\n",
    "```\n",
    "\n",
    "#### Click on an element\n",
    "```python\n",
    "element.click()\n",
    "```"
   ]
  }
 ],
 "metadata": {
  "kernelspec": {
   "display_name": "Python 3",
   "language": "python",
   "name": "python3"
  },
  "language_info": {
   "codemirror_mode": {
    "name": "ipython",
    "version": 3
   },
   "file_extension": ".py",
   "mimetype": "text/x-python",
   "name": "python",
   "nbconvert_exporter": "python",
   "pygments_lexer": "ipython3",
   "version": "3.5.3"
  }
 },
 "nbformat": 4,
 "nbformat_minor": 2
}
